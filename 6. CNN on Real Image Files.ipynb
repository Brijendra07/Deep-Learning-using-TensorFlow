{
 "cells": [
  {
   "cell_type": "markdown",
   "id": "99e0bdad",
   "metadata": {},
   "source": [
    "# CNN on real images"
   ]
  },
  {
   "cell_type": "markdown",
   "id": "a879f214",
   "metadata": {},
   "source": [
    "# 1. Reading in the Data"
   ]
  },
  {
   "cell_type": "code",
   "execution_count": 1,
   "id": "9878c2d0",
   "metadata": {},
   "outputs": [],
   "source": [
    "import os"
   ]
  },
  {
   "cell_type": "code",
   "execution_count": 2,
   "id": "7c54f1e4",
   "metadata": {},
   "outputs": [],
   "source": [
    "data_dir = '/home/vboxuser/Programming/Deep Learning using TensorFlow/DATA/cell_images'"
   ]
  },
  {
   "cell_type": "code",
   "execution_count": 3,
   "id": "e27a4210",
   "metadata": {},
   "outputs": [
    {
     "data": {
      "text/plain": [
       "['test', 'train']"
      ]
     },
     "execution_count": 3,
     "metadata": {},
     "output_type": "execute_result"
    }
   ],
   "source": [
    "os.listdir(data_dir)"
   ]
  },
  {
   "cell_type": "code",
   "execution_count": 4,
   "id": "a2a0254a",
   "metadata": {},
   "outputs": [],
   "source": [
    "import numpy as np\n",
    "import pandas as pd\n",
    "import matplotlib.pyplot as plt\n",
    "import seaborn as sns"
   ]
  },
  {
   "cell_type": "code",
   "execution_count": 5,
   "id": "1abc62b4",
   "metadata": {},
   "outputs": [],
   "source": [
    "from matplotlib.image import imread"
   ]
  },
  {
   "cell_type": "code",
   "execution_count": 6,
   "id": "72b8d847",
   "metadata": {},
   "outputs": [],
   "source": [
    "test_path = data_dir + '/test/'"
   ]
  },
  {
   "cell_type": "code",
   "execution_count": 7,
   "id": "a628fe9d",
   "metadata": {},
   "outputs": [],
   "source": [
    "train_path = data_dir + '/train/'"
   ]
  },
  {
   "cell_type": "code",
   "execution_count": 8,
   "id": "c1784822",
   "metadata": {},
   "outputs": [
    {
     "data": {
      "text/plain": [
       "['uninfected', 'parasitized']"
      ]
     },
     "execution_count": 8,
     "metadata": {},
     "output_type": "execute_result"
    }
   ],
   "source": [
    "os.listdir(test_path)"
   ]
  },
  {
   "cell_type": "code",
   "execution_count": 9,
   "id": "d44cf77f",
   "metadata": {},
   "outputs": [
    {
     "data": {
      "text/plain": [
       "['uninfected', 'parasitized']"
      ]
     },
     "execution_count": 9,
     "metadata": {},
     "output_type": "execute_result"
    }
   ],
   "source": [
    "os.listdir(train_path)"
   ]
  },
  {
   "cell_type": "code",
   "execution_count": 10,
   "id": "e5d83341",
   "metadata": {},
   "outputs": [
    {
     "data": {
      "text/plain": [
       "'C93P54ThinF_IMG_20150821_162641_cell_217.png'"
      ]
     },
     "execution_count": 10,
     "metadata": {},
     "output_type": "execute_result"
    }
   ],
   "source": [
    "os.listdir(train_path + 'parasitized')[0]"
   ]
  },
  {
   "cell_type": "code",
   "execution_count": 11,
   "id": "8f185ebc",
   "metadata": {},
   "outputs": [],
   "source": [
    "para_cell = train_path + 'parasitized/' + 'C93P54ThinF_IMG_20150821_162641_cell_217.png'"
   ]
  },
  {
   "cell_type": "code",
   "execution_count": 12,
   "id": "4a338543",
   "metadata": {},
   "outputs": [
    {
     "data": {
      "text/plain": [
       "array([[[0., 0., 0.],\n",
       "        [0., 0., 0.],\n",
       "        [0., 0., 0.],\n",
       "        ...,\n",
       "        [0., 0., 0.],\n",
       "        [0., 0., 0.],\n",
       "        [0., 0., 0.]],\n",
       "\n",
       "       [[0., 0., 0.],\n",
       "        [0., 0., 0.],\n",
       "        [0., 0., 0.],\n",
       "        ...,\n",
       "        [0., 0., 0.],\n",
       "        [0., 0., 0.],\n",
       "        [0., 0., 0.]],\n",
       "\n",
       "       [[0., 0., 0.],\n",
       "        [0., 0., 0.],\n",
       "        [0., 0., 0.],\n",
       "        ...,\n",
       "        [0., 0., 0.],\n",
       "        [0., 0., 0.],\n",
       "        [0., 0., 0.]],\n",
       "\n",
       "       ...,\n",
       "\n",
       "       [[0., 0., 0.],\n",
       "        [0., 0., 0.],\n",
       "        [0., 0., 0.],\n",
       "        ...,\n",
       "        [0., 0., 0.],\n",
       "        [0., 0., 0.],\n",
       "        [0., 0., 0.]],\n",
       "\n",
       "       [[0., 0., 0.],\n",
       "        [0., 0., 0.],\n",
       "        [0., 0., 0.],\n",
       "        ...,\n",
       "        [0., 0., 0.],\n",
       "        [0., 0., 0.],\n",
       "        [0., 0., 0.]],\n",
       "\n",
       "       [[0., 0., 0.],\n",
       "        [0., 0., 0.],\n",
       "        [0., 0., 0.],\n",
       "        ...,\n",
       "        [0., 0., 0.],\n",
       "        [0., 0., 0.],\n",
       "        [0., 0., 0.]]], dtype=float32)"
      ]
     },
     "execution_count": 12,
     "metadata": {},
     "output_type": "execute_result"
    }
   ],
   "source": [
    "imread(para_cell)"
   ]
  },
  {
   "cell_type": "code",
   "execution_count": 13,
   "id": "ea7e0d53",
   "metadata": {},
   "outputs": [
    {
     "data": {
      "text/plain": [
       "(109, 109, 3)"
      ]
     },
     "execution_count": 13,
     "metadata": {},
     "output_type": "execute_result"
    }
   ],
   "source": [
    "imread(para_cell).shape"
   ]
  },
  {
   "cell_type": "code",
   "execution_count": 14,
   "id": "fe4bb6bb",
   "metadata": {},
   "outputs": [
    {
     "data": {
      "text/plain": [
       "<matplotlib.image.AxesImage at 0x7ff9b52f88d0>"
      ]
     },
     "execution_count": 14,
     "metadata": {},
     "output_type": "execute_result"
    },
    {
     "data": {
      "image/png": "[encoded data removed]",
      "text/plain": [
       "<Figure size 640x480 with 1 Axes>"
      ]
     },
     "metadata": {},
     "output_type": "display_data"
    }
   ],
   "source": [
    "plt.imshow(imread(para_cell))"
   ]
  },
  {
   "cell_type": "code",
   "execution_count": 15,
   "id": "4f4dde56",
   "metadata": {},
   "outputs": [
    {
     "data": {
      "text/plain": [
       "'C131P92ThinF_IMG_20151004_151001_cell_83.png'"
      ]
     },
     "execution_count": 15,
     "metadata": {},
     "output_type": "execute_result"
    }
   ],
   "source": [
    "os.listdir(train_path + 'uninfected')[0]"
   ]
  },
  {
   "cell_type": "code",
   "execution_count": 16,
   "id": "69d0f5c3",
   "metadata": {},
   "outputs": [],
   "source": [
    "uninfected_cell = train_path + 'uninfected/' + 'C131P92ThinF_IMG_20151004_151001_cell_83.png'"
   ]
  },
  {
   "cell_type": "code",
   "execution_count": 17,
   "id": "9756cc0b",
   "metadata": {},
   "outputs": [],
   "source": [
    "uninfected_cell = imread(uninfected_cell)"
   ]
  },
  {
   "cell_type": "code",
   "execution_count": 18,
   "id": "31e8b812",
   "metadata": {},
   "outputs": [
    {
     "data": {
      "text/plain": [
       "<matplotlib.image.AxesImage at 0x7ff9b4fa8190>"
      ]
     },
     "execution_count": 18,
     "metadata": {},
     "output_type": "execute_result"
    },
    {
     "data": {
      "image/png": "[encoded data removed]",
      "text/plain": [
       "<Figure size 640x480 with 1 Axes>"
      ]
     },
     "metadata": {},
     "output_type": "display_data"
    }
   ],
   "source": [
    "plt.imshow(uninfected_cell)"
   ]
  },
  {
   "cell_type": "code",
   "execution_count": 19,
   "id": "ca1bad4b",
   "metadata": {},
   "outputs": [
    {
     "data": {
      "text/plain": [
       "12480"
      ]
     },
     "execution_count": 19,
     "metadata": {},
     "output_type": "execute_result"
    }
   ],
   "source": [
    "len(os.listdir(train_path + 'parasitized'))"
   ]
  },
  {
   "cell_type": "code",
   "execution_count": 20,
   "id": "55796d98",
   "metadata": {},
   "outputs": [
    {
     "data": {
      "text/plain": [
       "12480"
      ]
     },
     "execution_count": 20,
     "metadata": {},
     "output_type": "execute_result"
    }
   ],
   "source": [
    "len(os.listdir(train_path + 'uninfected'))"
   ]
  },
  {
   "cell_type": "code",
   "execution_count": 21,
   "id": "b5447ecf",
   "metadata": {},
   "outputs": [
    {
     "data": {
      "text/plain": [
       "1300"
      ]
     },
     "execution_count": 21,
     "metadata": {},
     "output_type": "execute_result"
    }
   ],
   "source": [
    "len(os.listdir(test_path + 'parasitized'))"
   ]
  },
  {
   "cell_type": "code",
   "execution_count": 22,
   "id": "80a92dc5",
   "metadata": {},
   "outputs": [
    {
     "data": {
      "text/plain": [
       "1300"
      ]
     },
     "execution_count": 22,
     "metadata": {},
     "output_type": "execute_result"
    }
   ],
   "source": [
    "len(os.listdir(test_path + 'uninfected'))"
   ]
  },
  {
   "cell_type": "code",
   "execution_count": 23,
   "id": "08f128f5",
   "metadata": {},
   "outputs": [],
   "source": [
    "dim1 = []\n",
    "dim2 = []\n",
    "for image_filename in os.listdir(test_path + 'uninfected'):\n",
    "    img = imread(test_path + 'uninfected/' + image_filename)\n",
    "    d1,d2,colors = img.shape\n",
    "    dim1.append(d1)\n",
    "    dim2.append(d2)"
   ]
  },
  {
   "cell_type": "code",
   "execution_count": 24,
   "id": "00fb52a9",
   "metadata": {},
   "outputs": [
    {
     "data": {
      "text/plain": [
       "[115,\n",
       " 142,\n",
       " 118,\n",
       " 127,\n",
       " 133,\n",
       " 181,\n",
       " 103,\n",
       " 106,\n",
       " 166,\n",
       " 133,\n",
       " 133,\n",
       " 133,\n",
       " 133,\n",
       " 124,\n",
       " 151,\n",
       " 127,\n",
       " 142,\n",
       " 106,\n",
       " 106,\n",
       " 127,\n",
       " 133,\n",
       " 148,\n",
       " 151,\n",
       " 136,\n",
       " 157,\n",
       " 175,\n",
       " 157,\n",
       " 127,\n",
       " 118,\n",
       " 121,\n",
       " 85,\n",
       " 172,\n",
       " 97,\n",
       " 118,\n",
       " 148,\n",
       " 154,\n",
       " 169,\n",
       " 130,\n",
       " 136,\n",
       " 148,\n",
       " 115,\n",
       " 121,\n",
       " 136,\n",
       " 139,\n",
       " 106,\n",
       " 97,\n",
       " 142,\n",
       " 136,\n",
       " 130,\n",
       " 124,\n",
       " 136,\n",
       " 130,\n",
       " 127,\n",
       " 130,\n",
       " 127,\n",
       " 118,\n",
       " 106,\n",
       " 148,\n",
       " 130,\n",
       " 133,\n",
       " 130,\n",
       " 130,\n",
       " 145,\n",
       " 121,\n",
       " 124,\n",
       " 193,\n",
       " 172,\n",
       " 133,\n",
       " 133,\n",
       " 100,\n",
       " 142,\n",
       " 118,\n",
       " 124,\n",
       " 103,\n",
       " 136,\n",
       " 124,\n",
       " 118,\n",
       " 139,\n",
       " 118,\n",
       " 121,\n",
       " 121,\n",
       " 124,\n",
       " 124,\n",
       " 112,\n",
       " 145,\n",
       " 145,\n",
       " 211,\n",
       " 115,\n",
       " 145,\n",
       " 130,\n",
       " 130,\n",
       " 139,\n",
       " 157,\n",
       " 115,\n",
       " 133,\n",
       " 118,\n",
       " 130,\n",
       " 121,\n",
       " 121,\n",
       " 109,\n",
       " 130,\n",
       " 124,\n",
       " 118,\n",
       " 133,\n",
       " 121,\n",
       " 103,\n",
       " 133,\n",
       " 139,\n",
       " 130,\n",
       " 112,\n",
       " 115,\n",
       " 118,\n",
       " 136,\n",
       " 112,\n",
       " 154,\n",
       " 127,\n",
       " 139,\n",
       " 130,\n",
       " 115,\n",
       " 97,\n",
       " 115,\n",
       " 151,\n",
       " 163,\n",
       " 127,\n",
       " 97,\n",
       " 115,\n",
       " 109,\n",
       " 130,\n",
       " 127,\n",
       " 136,\n",
       " 121,\n",
       " 118,\n",
       " 130,\n",
       " 124,\n",
       " 127,\n",
       " 124,\n",
       " 127,\n",
       " 154,\n",
       " 136,\n",
       " 124,\n",
       " 109,\n",
       " 106,\n",
       " 127,\n",
       " 160,\n",
       " 139,\n",
       " 142,\n",
       " 133,\n",
       " 133,\n",
       " 148,\n",
       " 133,\n",
       " 154,\n",
       " 118,\n",
       " 133,\n",
       " 124,\n",
       " 121,\n",
       " 142,\n",
       " 133,\n",
       " 130,\n",
       " 94,\n",
       " 136,\n",
       " 103,\n",
       " 106,\n",
       " 136,\n",
       " 136,\n",
       " 136,\n",
       " 145,\n",
       " 130,\n",
       " 121,\n",
       " 127,\n",
       " 133,\n",
       " 145,\n",
       " 130,\n",
       " 121,\n",
       " 127,\n",
       " 127,\n",
       " 109,\n",
       " 136,\n",
       " 130,\n",
       " 118,\n",
       " 121,\n",
       " 136,\n",
       " 130,\n",
       " 130,\n",
       " 178,\n",
       " 145,\n",
       " 118,\n",
       " 112,\n",
       " 157,\n",
       " 142,\n",
       " 115,\n",
       " 142,\n",
       " 106,\n",
       " 127,\n",
       " 121,\n",
       " 127,\n",
       " 133,\n",
       " 133,\n",
       " 148,\n",
       " 166,\n",
       " 157,\n",
       " 124,\n",
       " 127,\n",
       " 154,\n",
       " 130,\n",
       " 124,\n",
       " 169,\n",
       " 139,\n",
       " 184,\n",
       " 148,\n",
       " 121,\n",
       " 133,\n",
       " 133,\n",
       " 112,\n",
       " 148,\n",
       " 166,\n",
       " 136,\n",
       " 142,\n",
       " 127,\n",
       " 127,\n",
       " 130,\n",
       " 118,\n",
       " 148,\n",
       " 145,\n",
       " 133,\n",
       " 130,\n",
       " 133,\n",
       " 97,\n",
       " 103,\n",
       " 118,\n",
       " 121,\n",
       " 121,\n",
       " 142,\n",
       " 121,\n",
       " 121,\n",
       " 91,\n",
       " 136,\n",
       " 91,\n",
       " 112,\n",
       " 184,\n",
       " 130,\n",
       " 139,\n",
       " 127,\n",
       " 121,\n",
       " 139,\n",
       " 100,\n",
       " 190,\n",
       " 139,\n",
       " 130,\n",
       " 121,\n",
       " 136,\n",
       " 121,\n",
       " 118,\n",
       " 124,\n",
       " 169,\n",
       " 121,\n",
       " 142,\n",
       " 130,\n",
       " 136,\n",
       " 130,\n",
       " 115,\n",
       " 130,\n",
       " 127,\n",
       " 109,\n",
       " 124,\n",
       " 148,\n",
       " 85,\n",
       " 130,\n",
       " 142,\n",
       " 121,\n",
       " 130,\n",
       " 157,\n",
       " 154,\n",
       " 133,\n",
       " 124,\n",
       " 139,\n",
       " 199,\n",
       " 130,\n",
       " 115,\n",
       " 145,\n",
       " 154,\n",
       " 118,\n",
       " 106,\n",
       " 139,\n",
       " 130,\n",
       " 175,\n",
       " 139,\n",
       " 139,\n",
       " 157,\n",
       " 127,\n",
       " 133,\n",
       " 124,\n",
       " 142,\n",
       " 130,\n",
       " 136,\n",
       " 163,\n",
       " 142,\n",
       " 115,\n",
       " 100,\n",
       " 106,\n",
       " 139,\n",
       " 178,\n",
       " 115,\n",
       " 103,\n",
       " 118,\n",
       " 118,\n",
       " 115,\n",
       " 184,\n",
       " 136,\n",
       " 175,\n",
       " 106,\n",
       " 97,\n",
       " 127,\n",
       " 103,\n",
       " 118,\n",
       " 115,\n",
       " 106,\n",
       " 142,\n",
       " 154,\n",
       " 136,\n",
       " 118,\n",
       " 127,\n",
       " 124,\n",
       " 88,\n",
       " 142,\n",
       " 124,\n",
       " 133,\n",
       " 133,\n",
       " 109,\n",
       " 142,\n",
       " 136,\n",
       " 124,\n",
       " 148,\n",
       " 127,\n",
       " 121,\n",
       " 127,\n",
       " 94,\n",
       " 172,\n",
       " 127,\n",
       " 139,\n",
       " 112,\n",
       " 142,\n",
       " 124,\n",
       " 169,\n",
       " 106,\n",
       " 112,\n",
       " 157,\n",
       " 130,\n",
       " 97,\n",
       " 94,\n",
       " 130,\n",
       " 130,\n",
       " 127,\n",
       " 118,\n",
       " 130,\n",
       " 112,\n",
       " 121,\n",
       " 148,\n",
       " 118,\n",
       " 142,\n",
       " 124,\n",
       " 115,\n",
       " 160,\n",
       " 121,\n",
       " 136,\n",
       " 127,\n",
       " 109,\n",
       " 118,\n",
       " 106,\n",
       " 112,\n",
       " 154,\n",
       " 166,\n",
       " 148,\n",
       " 130,\n",
       " 112,\n",
       " 97,\n",
       " 136,\n",
       " 136,\n",
       " 118,\n",
       " 118,\n",
       " 130,\n",
       " 115,\n",
       " 136,\n",
       " 112,\n",
       " 112,\n",
       " 115,\n",
       " 136,\n",
       " 130,\n",
       " 106,\n",
       " 106,\n",
       " 118,\n",
       " 154,\n",
       " 130,\n",
       " 112,\n",
       " 109,\n",
       " 130,\n",
       " 106,\n",
       " 127,\n",
       " 130,\n",
       " 142,\n",
       " 103,\n",
       " 145,\n",
       " 121,\n",
       " 169,\n",
       " 106,\n",
       " 118,\n",
       " 151,\n",
       " 121,\n",
       " 118,\n",
       " 115,\n",
       " 145,\n",
       " 139,\n",
       " 154,\n",
       " 151,\n",
       " 160,\n",
       " 154,\n",
       " 127,\n",
       " 121,\n",
       " 166,\n",
       " 154,\n",
       " 136,\n",
       " 130,\n",
       " 160,\n",
       " 136,\n",
       " 124,\n",
       " 139,\n",
       " 157,\n",
       " 136,\n",
       " 172,\n",
       " 121,\n",
       " 109,\n",
       " 130,\n",
       " 130,\n",
       " 124,\n",
       " 124,\n",
       " 121,\n",
       " 133,\n",
       " 124,\n",
       " 151,\n",
       " 136,\n",
       " 124,\n",
       " 124,\n",
       " 139,\n",
       " 157,\n",
       " 154,\n",
       " 94,\n",
       " 121,\n",
       " 112,\n",
       " 112,\n",
       " 157,\n",
       " 145,\n",
       " 130,\n",
       " 118,\n",
       " 127,\n",
       " 121,\n",
       " 124,\n",
       " 121,\n",
       " 145,\n",
       " 124,\n",
       " 124,\n",
       " 124,\n",
       " 106,\n",
       " 142,\n",
       " 145,\n",
       " 148,\n",
       " 100,\n",
       " 151,\n",
       " 136,\n",
       " 115,\n",
       " 121,\n",
       " 130,\n",
       " 127,\n",
       " 118,\n",
       " 121,\n",
       " 133,\n",
       " 136,\n",
       " 142,\n",
       " 148,\n",
       " 136,\n",
       " 112,\n",
       " 190,\n",
       " 139,\n",
       " 124,\n",
       " 127,\n",
       " 112,\n",
       " 121,\n",
       " 121,\n",
       " 154,\n",
       " 163,\n",
       " 106,\n",
       " 127,\n",
       " 118,\n",
       " 118,\n",
       " 136,\n",
       " 166,\n",
       " 112,\n",
       " 130,\n",
       " 136,\n",
       " 121,\n",
       " 124,\n",
       " 151,\n",
       " 127,\n",
       " 130,\n",
       " 151,\n",
       " 145,\n",
       " 115,\n",
       " 142,\n",
       " 148,\n",
       " 133,\n",
       " 76,\n",
       " 130,\n",
       " 124,\n",
       " 106,\n",
       " 124,\n",
       " 124,\n",
       " 121,\n",
       " 166,\n",
       " 127,\n",
       " 115,\n",
       " 145,\n",
       " 121,\n",
       " 157,\n",
       " 124,\n",
       " 118,\n",
       " 136,\n",
       " 142,\n",
       " 136,\n",
       " 133,\n",
       " 127,\n",
       " 178,\n",
       " 136,\n",
       " 118,\n",
       " 124,\n",
       " 181,\n",
       " 145,\n",
       " 166,\n",
       " 124,\n",
       " 121,\n",
       " 103,\n",
       " 139,\n",
       " 121,\n",
       " 97,\n",
       " 118,\n",
       " 121,\n",
       " 130,\n",
       " 133,\n",
       " 121,\n",
       " 121,\n",
       " 136,\n",
       " 118,\n",
       " 154,\n",
       " 127,\n",
       " 118,\n",
       " 112,\n",
       " 112,\n",
       " 121,\n",
       " 124,\n",
       " 130,\n",
       " 124,\n",
       " 151,\n",
       " 133,\n",
       " 133,\n",
       " 142,\n",
       " 139,\n",
       " 124,\n",
       " 115,\n",
       " 139,\n",
       " 151,\n",
       " 124,\n",
       " 118,\n",
       " 133,\n",
       " 142,\n",
       " 145,\n",
       " 160,\n",
       " 127,\n",
       " 124,\n",
       " 136,\n",
       " 151,\n",
       " 112,\n",
       " 136,\n",
       " 163,\n",
       " 133,\n",
       " 127,\n",
       " 112,\n",
       " 127,\n",
       " 115,\n",
       " 160,\n",
       " 148,\n",
       " 118,\n",
       " 127,\n",
       " 130,\n",
       " 115,\n",
       " 112,\n",
       " 139,\n",
       " 145,\n",
       " 124,\n",
       " 148,\n",
       " 142,\n",
       " 70,\n",
       " 106,\n",
       " 196,\n",
       " 58,\n",
       " 118,\n",
       " 121,\n",
       " 139,\n",
       " 106,\n",
       " 148,\n",
       " 115,\n",
       " 130,\n",
       " 139,\n",
       " 136,\n",
       " 118,\n",
       " 145,\n",
       " 139,\n",
       " 118,\n",
       " 115,\n",
       " 145,\n",
       " 187,\n",
       " 172,\n",
       " 88,\n",
       " 121,\n",
       " 136,\n",
       " 118,\n",
       " 136,\n",
       " 115,\n",
       " 127,\n",
       " 121,\n",
       " 115,\n",
       " 139,\n",
       " 121,\n",
       " 133,\n",
       " 130,\n",
       " 115,\n",
       " 127,\n",
       " 124,\n",
       " 118,\n",
       " 157,\n",
       " 97,\n",
       " 142,\n",
       " 136,\n",
       " 127,\n",
       " 124,\n",
       " 121,\n",
       " 145,\n",
       " 139,\n",
       " 133,\n",
       " 121,\n",
       " 133,\n",
       " 169,\n",
       " 127,\n",
       " 163,\n",
       " 115,\n",
       " 121,\n",
       " 139,\n",
       " 136,\n",
       " 130,\n",
       " 139,\n",
       " 151,\n",
       " 88,\n",
       " 121,\n",
       " 154,\n",
       " 163,\n",
       " 127,\n",
       " 115,\n",
       " 106,\n",
       " 139,\n",
       " 130,\n",
       " 145,\n",
       " 115,\n",
       " 130,\n",
       " 130,\n",
       " 103,\n",
       " 130,\n",
       " 145,\n",
       " 133,\n",
       " 136,\n",
       " 112,\n",
       " 145,\n",
       " 127,\n",
       " 133,\n",
       " 118,\n",
       " 142,\n",
       " 136,\n",
       " 124,\n",
       " 136,\n",
       " 124,\n",
       " 118,\n",
       " 142,\n",
       " 121,\n",
       " 154,\n",
       " 103,\n",
       " 172,\n",
       " 130,\n",
       " 136,\n",
       " 127,\n",
       " 118,\n",
       " 142,\n",
       " 97,\n",
       " 130,\n",
       " 181,\n",
       " 124,\n",
       " 133,\n",
       " 136,\n",
       " 154,\n",
       " 103,\n",
       " 151,\n",
       " 133,\n",
       " 124,\n",
       " 142,\n",
       " 124,\n",
       " 112,\n",
       " 127,\n",
       " 130,\n",
       " 139,\n",
       " 124,\n",
       " 154,\n",
       " 94,\n",
       " 115,\n",
       " 160,\n",
       " 166,\n",
       " 133,\n",
       " 112,\n",
       " 127,\n",
       " 94,\n",
       " 115,\n",
       " 127,\n",
       " 112,\n",
       " 124,\n",
       " 160,\n",
       " 106,\n",
       " 130,\n",
       " 130,\n",
       " 139,\n",
       " 148,\n",
       " 157,\n",
       " 106,\n",
       " 145,\n",
       " 130,\n",
       " 139,\n",
       " 136,\n",
       " 109,\n",
       " 136,\n",
       " 154,\n",
       " 112,\n",
       " 145,\n",
       " 124,\n",
       " 118,\n",
       " 130,\n",
       " 148,\n",
       " 118,\n",
       " 142,\n",
       " 115,\n",
       " 199,\n",
       " 112,\n",
       " 127,\n",
       " 136,\n",
       " 130,\n",
       " 109,\n",
       " 112,\n",
       " 193,\n",
       " 121,\n",
       " 115,\n",
       " 154,\n",
       " 118,\n",
       " 145,\n",
       " 109,\n",
       " 127,\n",
       " 136,\n",
       " 109,\n",
       " 121,\n",
       " 115,\n",
       " 130,\n",
       " 136,\n",
       " 118,\n",
       " 115,\n",
       " 139,\n",
       " 175,\n",
       " 130,\n",
       " 121,\n",
       " 118,\n",
       " 118,\n",
       " 160,\n",
       " 151,\n",
       " 133,\n",
       " 124,\n",
       " 169,\n",
       " 121,\n",
       " 112,\n",
       " 142,\n",
       " 124,\n",
       " 109,\n",
       " 214,\n",
       " 112,\n",
       " 121,\n",
       " 145,\n",
       " 124,\n",
       " 154,\n",
       " 133,\n",
       " 136,\n",
       " 121,\n",
       " 118,\n",
       " 157,\n",
       " 178,\n",
       " 148,\n",
       " 94,\n",
       " 142,\n",
       " 133,\n",
       " 130,\n",
       " 127,\n",
       " 121,\n",
       " 169,\n",
       " 133,\n",
       " 130,\n",
       " 124,\n",
       " 121,\n",
       " 112,\n",
       " 136,\n",
       " 118,\n",
       " 133,\n",
       " 127,\n",
       " 151,\n",
       " 112,\n",
       " 121,\n",
       " 130,\n",
       " 133,\n",
       " 121,\n",
       " 127,\n",
       " 142,\n",
       " 136,\n",
       " 70,\n",
       " 145,\n",
       " 133,\n",
       " 121,\n",
       " 145,\n",
       " 154,\n",
       " 127,\n",
       " 109,\n",
       " 112,\n",
       " 139,\n",
       " 127,\n",
       " 118,\n",
       " 118,\n",
       " 112,\n",
       " 151,\n",
       " 136,\n",
       " 103,\n",
       " 127,\n",
       " 118,\n",
       " 136,\n",
       " 136,\n",
       " 121,\n",
       " 154,\n",
       " 130,\n",
       " 139,\n",
       " 181,\n",
       " 187,\n",
       " 163,\n",
       " 118,\n",
       " 109,\n",
       " 130,\n",
       " 184,\n",
       " 130,\n",
       " 88,\n",
       " 160,\n",
       " 145,\n",
       " 118,\n",
       " 151,\n",
       " 118,\n",
       " 139,\n",
       " 139,\n",
       " 127,\n",
       " 127,\n",
       " 145,\n",
       " 136,\n",
       " 142,\n",
       " 115,\n",
       " 109,\n",
       " 121,\n",
       " 148,\n",
       " 130,\n",
       " 133,\n",
       " 133,\n",
       " 127,\n",
       " 139,\n",
       " 100,\n",
       " 115,\n",
       " 121,\n",
       " 130,\n",
       " 148,\n",
       " 124,\n",
       " 151,\n",
       " 121,\n",
       " 115,\n",
       " 160,\n",
       " 160,\n",
       " 118,\n",
       " 121,\n",
       " 124,\n",
       " 142,\n",
       " 130,\n",
       " 139,\n",
       " 130,\n",
       " 118,\n",
       " 115,\n",
       " 136,\n",
       " 124,\n",
       " 151,\n",
       " 112,\n",
       " 127,\n",
       " 148,\n",
       " 136,\n",
       " 142,\n",
       " 85,\n",
       " 121,\n",
       " 154,\n",
       " 130,\n",
       " 145,\n",
       " 121,\n",
       " 163,\n",
       " 121,\n",
       " 142,\n",
       " 118,\n",
       " 169,\n",
       " 118,\n",
       " 109,\n",
       " 160,\n",
       " 136,\n",
       " 136,\n",
       " 130,\n",
       " 127,\n",
       " 130,\n",
       " 163,\n",
       " 103,\n",
       " 154,\n",
       " 124,\n",
       " 169,\n",
       " 124,\n",
       " 118,\n",
       " 115,\n",
       " 130,\n",
       " 121,\n",
       " 124,\n",
       " 109,\n",
       " 115,\n",
       " 157,\n",
       " 130,\n",
       " 115,\n",
       " 136,\n",
       " 154,\n",
       " 145,\n",
       " 136,\n",
       " 127,\n",
       " 142,\n",
       " 148,\n",
       " 139,\n",
       " 130,\n",
       " 130,\n",
       " 160,\n",
       " 175,\n",
       " 130,\n",
       " 124,\n",
       " 115,\n",
       " 157,\n",
       " 124,\n",
       " 160,\n",
       " 145,\n",
       " 103,\n",
       " 124,\n",
       " 136,\n",
       " 103,\n",
       " 124,\n",
       " 145,\n",
       " 121,\n",
       " 160,\n",
       " 118,\n",
       " 124,\n",
       " 124,\n",
       " 154,\n",
       " 142,\n",
       " 184,\n",
       " 103,\n",
       " 115,\n",
       " 109,\n",
       " 115,\n",
       " 121,\n",
       " 154,\n",
       " 154,\n",
       " 127,\n",
       " 172,\n",
       " 151,\n",
       " 172,\n",
       " 124,\n",
       " 91,\n",
       " 166,\n",
       " 103,\n",
       " 118,\n",
       " 121,\n",
       " 136,\n",
       " 115,\n",
       " 130,\n",
       " 133,\n",
       " ...]"
      ]
     },
     "execution_count": 24,
     "metadata": {},
     "output_type": "execute_result"
    }
   ],
   "source": [
    "dim1"
   ]
  },
  {
   "cell_type": "code",
   "execution_count": 25,
   "id": "26c7f527",
   "metadata": {},
   "outputs": [
    {
     "data": {
      "text/plain": [
       "<seaborn.axisgrid.JointGrid at 0x7ff9b4ff2950>"
      ]
     },
     "execution_count": 25,
     "metadata": {},
     "output_type": "execute_result"
    },
    {
     "data": {
      "image/png": "[encoded data removed]",
      "text/plain": [
       "<Figure size 600x600 with 3 Axes>"
      ]
     },
     "metadata": {},
     "output_type": "display_data"
    }
   ],
   "source": [
    "sns.jointplot(dim1,dim2)"
   ]
  },
  {
   "cell_type": "code",
   "execution_count": 26,
   "id": "144a6179",
   "metadata": {},
   "outputs": [],
   "source": [
    "# we have to resize all the images in same shape"
   ]
  },
  {
   "cell_type": "code",
   "execution_count": 27,
   "id": "5b70ac32",
   "metadata": {},
   "outputs": [
    {
     "data": {
      "text/plain": [
       "130.92538461538462"
      ]
     },
     "execution_count": 27,
     "metadata": {},
     "output_type": "execute_result"
    }
   ],
   "source": [
    "np.mean(dim1)"
   ]
  },
  {
   "cell_type": "code",
   "execution_count": 28,
   "id": "5172f8e4",
   "metadata": {},
   "outputs": [
    {
     "data": {
      "text/plain": [
       "130.75"
      ]
     },
     "execution_count": 28,
     "metadata": {},
     "output_type": "execute_result"
    }
   ],
   "source": [
    "np.mean(dim2)"
   ]
  },
  {
   "cell_type": "code",
   "execution_count": 29,
   "id": "ff657c02",
   "metadata": {},
   "outputs": [],
   "source": [
    "# for all images, the image shape should be : image_shape = (130,130,3)"
   ]
  },
  {
   "cell_type": "markdown",
   "id": "ec9cf7dd",
   "metadata": {},
   "source": [
    "# 2. Data Processing"
   ]
  },
  {
   "cell_type": "code",
   "execution_count": 30,
   "id": "b8693b84",
   "metadata": {},
   "outputs": [
    {
     "data": {
      "text/plain": [
       "50700"
      ]
     },
     "execution_count": 30,
     "metadata": {},
     "output_type": "execute_result"
    }
   ],
   "source": [
    "130*130*3"
   ]
  },
  {
   "cell_type": "code",
   "execution_count": 31,
   "id": "baba7a05",
   "metadata": {},
   "outputs": [],
   "source": [
    "from tensorflow.keras.preprocessing.image import ImageDataGenerator"
   ]
  },
  {
   "cell_type": "code",
   "execution_count": 32,
   "id": "4145ece6",
   "metadata": {},
   "outputs": [],
   "source": [
    "# help(ImageDataGenerator)"
   ]
  },
  {
   "cell_type": "code",
   "execution_count": 33,
   "id": "cd873e11",
   "metadata": {},
   "outputs": [],
   "source": [
    "image_gen = ImageDataGenerator(rotation_range = 20,\n",
    "                              width_shift_range=0.1,\n",
    "                              height_shift_range=0.1,\n",
    "                              shear_range = 0.1,\n",
    "                              zoom_range = 0.1,\n",
    "                              horizontal_flip = True,\n",
    "                              fill_mode = 'nearest') # already scaled images"
   ]
  },
  {
   "cell_type": "code",
   "execution_count": 34,
   "id": "08e96800",
   "metadata": {},
   "outputs": [
    {
     "data": {
      "text/plain": [
       "<matplotlib.image.AxesImage at 0x7ff9adabd910>"
      ]
     },
     "execution_count": 34,
     "metadata": {},
     "output_type": "execute_result"
    },
    {
     "data": {
      "image/png": "[encoded data removed]",
      "text/plain": [
       "<Figure size 640x480 with 1 Axes>"
      ]
     },
     "metadata": {},
     "output_type": "display_data"
    }
   ],
   "source": [
    "plt.imshow(uninfected_cell)"
   ]
  },
  {
   "cell_type": "code",
   "execution_count": 35,
   "id": "68731027",
   "metadata": {},
   "outputs": [
    {
     "data": {
      "text/plain": [
       "array([[[0., 0., 0.],\n",
       "        [0., 0., 0.],\n",
       "        [0., 0., 0.],\n",
       "        ...,\n",
       "        [0., 0., 0.],\n",
       "        [0., 0., 0.],\n",
       "        [0., 0., 0.]],\n",
       "\n",
       "       [[0., 0., 0.],\n",
       "        [0., 0., 0.],\n",
       "        [0., 0., 0.],\n",
       "        ...,\n",
       "        [0., 0., 0.],\n",
       "        [0., 0., 0.],\n",
       "        [0., 0., 0.]],\n",
       "\n",
       "       [[0., 0., 0.],\n",
       "        [0., 0., 0.],\n",
       "        [0., 0., 0.],\n",
       "        ...,\n",
       "        [0., 0., 0.],\n",
       "        [0., 0., 0.],\n",
       "        [0., 0., 0.]],\n",
       "\n",
       "       ...,\n",
       "\n",
       "       [[0., 0., 0.],\n",
       "        [0., 0., 0.],\n",
       "        [0., 0., 0.],\n",
       "        ...,\n",
       "        [0., 0., 0.],\n",
       "        [0., 0., 0.],\n",
       "        [0., 0., 0.]],\n",
       "\n",
       "       [[0., 0., 0.],\n",
       "        [0., 0., 0.],\n",
       "        [0., 0., 0.],\n",
       "        ...,\n",
       "        [0., 0., 0.],\n",
       "        [0., 0., 0.],\n",
       "        [0., 0., 0.]],\n",
       "\n",
       "       [[0., 0., 0.],\n",
       "        [0., 0., 0.],\n",
       "        [0., 0., 0.],\n",
       "        ...,\n",
       "        [0., 0., 0.],\n",
       "        [0., 0., 0.],\n",
       "        [0., 0., 0.]]], dtype=float32)"
      ]
     },
     "execution_count": 35,
     "metadata": {},
     "output_type": "execute_result"
    }
   ],
   "source": [
    "uninfected_cell"
   ]
  },
  {
   "cell_type": "code",
   "execution_count": 36,
   "id": "0d6168b2",
   "metadata": {},
   "outputs": [
    {
     "data": {
      "text/plain": [
       "<matplotlib.image.AxesImage at 0x7ff9ad7fa1d0>"
      ]
     },
     "execution_count": 36,
     "metadata": {},
     "output_type": "execute_result"
    },
    {
     "data": {
      "image/png": "[encoded data removed]",
      "text/plain": [
       "<Figure size 640x480 with 1 Axes>"
      ]
     },
     "metadata": {},
     "output_type": "display_data"
    }
   ],
   "source": [
    "plt.imshow(image_gen.random_transform(uninfected_cell))"
   ]
  },
  {
   "cell_type": "code",
   "execution_count": 37,
   "id": "f5e371aa",
   "metadata": {},
   "outputs": [
    {
     "data": {
      "text/plain": [
       "'/home/vboxuser/Programming/Deep Learning using TensorFlow/DATA/cell_images/train/'"
      ]
     },
     "execution_count": 37,
     "metadata": {},
     "output_type": "execute_result"
    }
   ],
   "source": [
    "train_path"
   ]
  },
  {
   "cell_type": "code",
   "execution_count": 38,
   "id": "54af311e",
   "metadata": {},
   "outputs": [
    {
     "name": "stdout",
     "output_type": "stream",
     "text": [
      "Found 24958 images belonging to 2 classes.\n"
     ]
    },
    {
     "data": {
      "text/plain": [
       "<keras_preprocessing.image.directory_iterator.DirectoryIterator at 0x7ff9b52b1050>"
      ]
     },
     "execution_count": 38,
     "metadata": {},
     "output_type": "execute_result"
    }
   ],
   "source": [
    "image_gen.flow_from_directory(train_path)"
   ]
  },
  {
   "cell_type": "code",
   "execution_count": 39,
   "id": "8e6131af",
   "metadata": {},
   "outputs": [
    {
     "name": "stdout",
     "output_type": "stream",
     "text": [
      "Found 2600 images belonging to 2 classes.\n"
     ]
    },
    {
     "data": {
      "text/plain": [
       "<keras_preprocessing.image.directory_iterator.DirectoryIterator at 0x7ff9ad7a9d90>"
      ]
     },
     "execution_count": 39,
     "metadata": {},
     "output_type": "execute_result"
    }
   ],
   "source": [
    "image_gen.flow_from_directory(test_path)"
   ]
  },
  {
   "cell_type": "markdown",
   "id": "0b24f078",
   "metadata": {},
   "source": [
    "# 3. Creating the Model"
   ]
  },
  {
   "cell_type": "code",
   "execution_count": 40,
   "id": "e2ccfa6a",
   "metadata": {},
   "outputs": [],
   "source": [
    "from tensorflow.keras.models import Sequential"
   ]
  },
  {
   "cell_type": "code",
   "execution_count": 41,
   "id": "8114dc8f",
   "metadata": {},
   "outputs": [],
   "source": [
    "from tensorflow.keras.layers import Dense, Conv2D, MaxPool2D, Dropout, Flatten"
   ]
  },
  {
   "cell_type": "code",
   "execution_count": 42,
   "id": "d3100c4d",
   "metadata": {},
   "outputs": [],
   "source": [
    "image_shape = (130,130,3)"
   ]
  },
  {
   "cell_type": "code",
   "execution_count": 43,
   "id": "52161ac1",
   "metadata": {},
   "outputs": [
    {
     "name": "stderr",
     "output_type": "stream",
     "text": [
      "2023-05-28 15:31:36.827426: I tensorflow/core/platform/cpu_feature_guard.cc:142] Your CPU supports instructions that this TensorFlow binary was not compiled to use: AVX2\n",
      "2023-05-28 15:31:36.852081: I tensorflow/core/platform/profile_utils/cpu_utils.cc:94] CPU Frequency: 2400000000 Hz\n",
      "2023-05-28 15:31:36.852224: I tensorflow/compiler/xla/service/service.cc:168] XLA service 0x2c21640 executing computations on platform Host. Devices:\n",
      "2023-05-28 15:31:36.852239: I tensorflow/compiler/xla/service/service.cc:175]   StreamExecutor device (0): Host, Default Version\n"
     ]
    }
   ],
   "source": [
    "model = Sequential()\n",
    "\n",
    "model.add(Conv2D(filters = 32, kernel_size = (3,3), input_shape=image_shape,activation='relu'))\n",
    "model.add(MaxPool2D(pool_size=(2,2)))\n",
    "\n",
    "model.add(Conv2D(filters = 64, kernel_size = (3,3), input_shape=image_shape,activation='relu'))\n",
    "model.add(MaxPool2D(pool_size=(2,2)))\n",
    "\n",
    "model.add(Conv2D(filters = 64, kernel_size = (3,3), input_shape=image_shape,activation='relu'))\n",
    "model.add(MaxPool2D(pool_size=(2,2)))\n",
    "\n",
    "model.add(Flatten())\n",
    "model.add(Dense(128,activation='relu'))\n",
    "# OUTPUT LAYER SOFTMAX --> MULTI CLASS\n",
    "model.add(Dropout(0.5))\n",
    "model.add(Dense(1,activation='sigmoid'))\n",
    "\n",
    "# keras.io/metrics\n",
    "\n",
    "model.compile(loss='binary_crossentropy',optimizer='adam',metrics=['accuracy'])"
   ]
  },
  {
   "cell_type": "code",
   "execution_count": 44,
   "id": "3a75ffc5",
   "metadata": {},
   "outputs": [
    {
     "name": "stdout",
     "output_type": "stream",
     "text": [
      "Model: \"sequential\"\n",
      "_________________________________________________________________\n",
      "Layer (type)                 Output Shape              Param #   \n",
      "=================================================================\n",
      "conv2d (Conv2D)              (None, 128, 128, 32)      896       \n",
      "_________________________________________________________________\n",
      "max_pooling2d (MaxPooling2D) (None, 64, 64, 32)        0         \n",
      "_________________________________________________________________\n",
      "conv2d_1 (Conv2D)            (None, 62, 62, 64)        18496     \n",
      "_________________________________________________________________\n",
      "max_pooling2d_1 (MaxPooling2 (None, 31, 31, 64)        0         \n",
      "_________________________________________________________________\n",
      "conv2d_2 (Conv2D)            (None, 29, 29, 64)        36928     \n",
      "_________________________________________________________________\n",
      "max_pooling2d_2 (MaxPooling2 (None, 14, 14, 64)        0         \n",
      "_________________________________________________________________\n",
      "flatten (Flatten)            (None, 12544)             0         \n",
      "_________________________________________________________________\n",
      "dense (Dense)                (None, 128)               1605760   \n",
      "_________________________________________________________________\n",
      "dropout (Dropout)            (None, 128)               0         \n",
      "_________________________________________________________________\n",
      "dense_1 (Dense)              (None, 1)                 129       \n",
      "=================================================================\n",
      "Total params: 1,662,209\n",
      "Trainable params: 1,662,209\n",
      "Non-trainable params: 0\n",
      "_________________________________________________________________\n"
     ]
    }
   ],
   "source": [
    "model.summary()"
   ]
  },
  {
   "cell_type": "code",
   "execution_count": 45,
   "id": "b29bc399",
   "metadata": {},
   "outputs": [],
   "source": [
    "from tensorflow.keras.callbacks import EarlyStopping"
   ]
  },
  {
   "cell_type": "code",
   "execution_count": 46,
   "id": "e821fe79",
   "metadata": {},
   "outputs": [],
   "source": [
    "early_stop = EarlyStopping(monitor='val_loss',patience=2)"
   ]
  },
  {
   "cell_type": "code",
   "execution_count": 47,
   "id": "34788646",
   "metadata": {},
   "outputs": [],
   "source": [
    "batch_size = 16"
   ]
  },
  {
   "cell_type": "code",
   "execution_count": 48,
   "id": "0dcbd1a0",
   "metadata": {},
   "outputs": [
    {
     "name": "stdout",
     "output_type": "stream",
     "text": [
      "Found 24958 images belonging to 2 classes.\n"
     ]
    }
   ],
   "source": [
    "train_image_gen = image_gen.flow_from_directory(train_path,\n",
    "                                               target_size=image_shape[:2],\n",
    "                                               color_mode = 'rgb',\n",
    "                                               batch_size = batch_size,\n",
    "                                               class_mode = 'binary')"
   ]
  },
  {
   "cell_type": "code",
   "execution_count": 49,
   "id": "740015ca",
   "metadata": {},
   "outputs": [
    {
     "name": "stdout",
     "output_type": "stream",
     "text": [
      "Found 2600 images belonging to 2 classes.\n"
     ]
    }
   ],
   "source": [
    "test_image_gen = image_gen.flow_from_directory(test_path,\n",
    "                                               target_size=image_shape[:2],\n",
    "                                               color_mode = 'rgb',\n",
    "                                               batch_size = batch_size,\n",
    "                                               class_mode = 'binary',\n",
    "                                              shuffle=False)"
   ]
  },
  {
   "cell_type": "code",
   "execution_count": 50,
   "id": "347d6387",
   "metadata": {},
   "outputs": [
    {
     "data": {
      "text/plain": [
       "{'parasitized': 0, 'uninfected': 1}"
      ]
     },
     "execution_count": 50,
     "metadata": {},
     "output_type": "execute_result"
    }
   ],
   "source": [
    "train_image_gen.class_indices"
   ]
  },
  {
   "cell_type": "code",
   "execution_count": 51,
   "id": "9b01f57f",
   "metadata": {},
   "outputs": [
    {
     "name": "stdout",
     "output_type": "stream",
     "text": [
      "Epoch 1/20\n"
     ]
    },
    {
     "name": "stderr",
     "output_type": "stream",
     "text": [
      "2023-05-28 15:31:38.498604: W tensorflow/core/framework/cpu_allocator_impl.cc:81] Allocation of 33554432 exceeds 10% of system memory.\n",
      "2023-05-28 15:31:38.588493: W tensorflow/core/framework/cpu_allocator_impl.cc:81] Allocation of 33554432 exceeds 10% of system memory.\n",
      "2023-05-28 15:31:38.610602: W tensorflow/core/framework/cpu_allocator_impl.cc:81] Allocation of 33554432 exceeds 10% of system memory.\n",
      "2023-05-28 15:31:38.638105: W tensorflow/core/framework/cpu_allocator_impl.cc:81] Allocation of 15745024 exceeds 10% of system memory.\n",
      "2023-05-28 15:31:38.663317: W tensorflow/core/framework/cpu_allocator_impl.cc:81] Allocation of 15745024 exceeds 10% of system memory.\n"
     ]
    },
    {
     "name": "stdout",
     "output_type": "stream",
     "text": [
      "1560/1560 [==============================] - 658s 422ms/step - loss: 7.7179 - accuracy: 0.4993 - val_loss: 7.7361 - val_accuracy: 0.5000\n",
      "Epoch 2/20\n",
      "1560/1560 [==============================] - 627s 402ms/step - loss: 7.7689 - accuracy: 0.4960 - val_loss: 7.6431 - val_accuracy: 0.5000\n",
      "Epoch 3/20\n",
      "1560/1560 [==============================] - 605s 388ms/step - loss: 7.7462 - accuracy: 0.4961 - val_loss: 7.6431 - val_accuracy: 0.5000\n",
      "Epoch 4/20\n",
      "1560/1560 [==============================] - 577s 370ms/step - loss: 7.6880 - accuracy: 0.4987 - val_loss: 7.6431 - val_accuracy: 0.5000\n"
     ]
    }
   ],
   "source": [
    "results = model.fit_generator(train_image_gen,epochs = 20,\n",
    "                             validation_data = test_image_gen,\n",
    "                             callbacks = [early_stop]) # we will use already available model in files"
   ]
  },
  {
   "cell_type": "code",
   "execution_count": 52,
   "id": "e66e9eca",
   "metadata": {},
   "outputs": [
    {
     "name": "stdout",
     "output_type": "stream",
     "text": [
      "Model: \"sequential\"\n",
      "_________________________________________________________________\n",
      "Layer (type)                 Output Shape              Param #   \n",
      "=================================================================\n",
      "conv2d (Conv2D)              (None, 128, 128, 32)      896       \n",
      "_________________________________________________________________\n",
      "max_pooling2d (MaxPooling2D) (None, 64, 64, 32)        0         \n",
      "_________________________________________________________________\n",
      "conv2d_1 (Conv2D)            (None, 62, 62, 64)        18496     \n",
      "_________________________________________________________________\n",
      "max_pooling2d_1 (MaxPooling2 (None, 31, 31, 64)        0         \n",
      "_________________________________________________________________\n",
      "conv2d_2 (Conv2D)            (None, 29, 29, 64)        36928     \n",
      "_________________________________________________________________\n",
      "max_pooling2d_2 (MaxPooling2 (None, 14, 14, 64)        0         \n",
      "_________________________________________________________________\n",
      "flatten (Flatten)            (None, 12544)             0         \n",
      "_________________________________________________________________\n",
      "dense (Dense)                (None, 128)               1605760   \n",
      "_________________________________________________________________\n",
      "dropout (Dropout)            (None, 128)               0         \n",
      "_________________________________________________________________\n",
      "dense_1 (Dense)              (None, 1)                 129       \n",
      "=================================================================\n",
      "Total params: 1,662,209\n",
      "Trainable params: 1,662,209\n",
      "Non-trainable params: 0\n",
      "_________________________________________________________________\n"
     ]
    }
   ],
   "source": [
    "model.summary()"
   ]
  },
  {
   "cell_type": "code",
   "execution_count": 53,
   "id": "0f292f5e",
   "metadata": {},
   "outputs": [
    {
     "data": {
      "text/plain": [
       "{'loss': [7.717920794549284,\n",
       "  7.768894249587231,\n",
       "  7.746074885223068,\n",
       "  7.687909000796265],\n",
       " 'accuracy': [0.49931887, 0.49603334, 0.49611348, 0.49871784],\n",
       " 'val_loss': [7.736132241465563,\n",
       "  7.643102063723137,\n",
       "  7.643102063723137,\n",
       "  7.643102063723137],\n",
       " 'val_accuracy': [0.5, 0.5, 0.5, 0.5]}"
      ]
     },
     "execution_count": 53,
     "metadata": {},
     "output_type": "execute_result"
    }
   ],
   "source": [
    "model.history.history"
   ]
  },
  {
   "cell_type": "code",
   "execution_count": 54,
   "id": "25736bea",
   "metadata": {},
   "outputs": [
    {
     "data": {
      "text/plain": [
       "[7.643102063723137, 0.5]"
      ]
     },
     "execution_count": 54,
     "metadata": {},
     "output_type": "execute_result"
    }
   ],
   "source": [
    "model.evaluate_generator(test_image_gen)"
   ]
  },
  {
   "cell_type": "code",
   "execution_count": 55,
   "id": "8c2d6944",
   "metadata": {},
   "outputs": [
    {
     "data": {
      "text/plain": [
       "['loss', 'accuracy']"
      ]
     },
     "execution_count": 55,
     "metadata": {},
     "output_type": "execute_result"
    }
   ],
   "source": [
    "model.metrics_names"
   ]
  },
  {
   "cell_type": "markdown",
   "id": "fc3d7161",
   "metadata": {},
   "source": [
    "# 4. Evaluating the Model"
   ]
  },
  {
   "cell_type": "code",
   "execution_count": 56,
   "id": "da4cb1cd",
   "metadata": {},
   "outputs": [],
   "source": [
    "pred = model.predict_generator(test_image_gen)"
   ]
  },
  {
   "cell_type": "code",
   "execution_count": 57,
   "id": "38a75dff",
   "metadata": {},
   "outputs": [],
   "source": [
    "predictions = pred > 0.5"
   ]
  },
  {
   "cell_type": "code",
   "execution_count": 58,
   "id": "75ae682a",
   "metadata": {},
   "outputs": [
    {
     "data": {
      "text/plain": [
       "2600"
      ]
     },
     "execution_count": 58,
     "metadata": {},
     "output_type": "execute_result"
    }
   ],
   "source": [
    "len(pred)"
   ]
  },
  {
   "cell_type": "code",
   "execution_count": 60,
   "id": "22e7424e",
   "metadata": {},
   "outputs": [],
   "source": [
    "from sklearn.metrics import classification_report, confusion_matrix"
   ]
  },
  {
   "cell_type": "code",
   "execution_count": 61,
   "id": "5c300710",
   "metadata": {},
   "outputs": [
    {
     "data": {
      "text/plain": [
       "array([0, 0, 0, ..., 1, 1, 1], dtype=int32)"
      ]
     },
     "execution_count": 61,
     "metadata": {},
     "output_type": "execute_result"
    }
   ],
   "source": [
    "test_image_gen.classes"
   ]
  },
  {
   "cell_type": "code",
   "execution_count": 62,
   "id": "52e0befb",
   "metadata": {},
   "outputs": [
    {
     "name": "stdout",
     "output_type": "stream",
     "text": [
      "              precision    recall  f1-score   support\n",
      "\n",
      "           0       0.00      0.00      0.00      1300\n",
      "           1       0.50      1.00      0.67      1300\n",
      "\n",
      "    accuracy                           0.50      2600\n",
      "   macro avg       0.25      0.50      0.33      2600\n",
      "weighted avg       0.25      0.50      0.33      2600\n",
      "\n"
     ]
    },
    {
     "name": "stderr",
     "output_type": "stream",
     "text": [
      "/home/vboxuser/anaconda3/envs/myenv/lib/python3.7/site-packages/sklearn/metrics/classification.py:1437: UndefinedMetricWarning: Precision and F-score are ill-defined and being set to 0.0 in labels with no predicted samples.\n",
      "  'precision', 'predicted', average, warn_for)\n"
     ]
    }
   ],
   "source": [
    "print(classification_report(test_image_gen.classes,predictions))"
   ]
  },
  {
   "cell_type": "code",
   "execution_count": 63,
   "id": "d8186a24",
   "metadata": {},
   "outputs": [
    {
     "data": {
      "text/plain": [
       "array([[   0, 1300],\n",
       "       [   0, 1300]])"
      ]
     },
     "execution_count": 63,
     "metadata": {},
     "output_type": "execute_result"
    }
   ],
   "source": [
    "confusion_matrix(test_image_gen.classes,predictions)"
   ]
  },
  {
   "cell_type": "code",
   "execution_count": 64,
   "id": "ddedb628",
   "metadata": {},
   "outputs": [
    {
     "data": {
      "text/plain": [
       "'/home/vboxuser/Programming/Deep Learning using TensorFlow/DATA/cell_images/train/parasitized/C93P54ThinF_IMG_20150821_162641_cell_217.png'"
      ]
     },
     "execution_count": 64,
     "metadata": {},
     "output_type": "execute_result"
    }
   ],
   "source": [
    "para_cell"
   ]
  },
  {
   "cell_type": "code",
   "execution_count": 65,
   "id": "c53f56c6",
   "metadata": {},
   "outputs": [],
   "source": [
    "from tensorflow.keras.preprocessing import image"
   ]
  },
  {
   "cell_type": "code",
   "execution_count": 66,
   "id": "2eead51b",
   "metadata": {},
   "outputs": [],
   "source": [
    "my_image = image.load_img(para_cell,target_size =  image_shape)"
   ]
  },
  {
   "cell_type": "code",
   "execution_count": 67,
   "id": "e994b23a",
   "metadata": {},
   "outputs": [
    {
     "data": {
      "image/png": "[encoded data removed]",
      "text/plain": [
       "<PIL.Image.Image image mode=RGB size=130x130 at 0x7FF9AD79A290>"
      ]
     },
     "execution_count": 67,
     "metadata": {},
     "output_type": "execute_result"
    }
   ],
   "source": [
    "my_image"
   ]
  },
  {
   "cell_type": "code",
   "execution_count": 68,
   "id": "882285b3",
   "metadata": {},
   "outputs": [
    {
     "name": "stdout",
     "output_type": "stream",
     "text": [
      "Model: \"sequential\"\n",
      "_________________________________________________________________\n",
      "Layer (type)                 Output Shape              Param #   \n",
      "=================================================================\n",
      "conv2d (Conv2D)              (None, 128, 128, 32)      896       \n",
      "_________________________________________________________________\n",
      "max_pooling2d (MaxPooling2D) (None, 64, 64, 32)        0         \n",
      "_________________________________________________________________\n",
      "conv2d_1 (Conv2D)            (None, 62, 62, 64)        18496     \n",
      "_________________________________________________________________\n",
      "max_pooling2d_1 (MaxPooling2 (None, 31, 31, 64)        0         \n",
      "_________________________________________________________________\n",
      "conv2d_2 (Conv2D)            (None, 29, 29, 64)        36928     \n",
      "_________________________________________________________________\n",
      "max_pooling2d_2 (MaxPooling2 (None, 14, 14, 64)        0         \n",
      "_________________________________________________________________\n",
      "flatten (Flatten)            (None, 12544)             0         \n",
      "_________________________________________________________________\n",
      "dense (Dense)                (None, 128)               1605760   \n",
      "_________________________________________________________________\n",
      "dropout (Dropout)            (None, 128)               0         \n",
      "_________________________________________________________________\n",
      "dense_1 (Dense)              (None, 1)                 129       \n",
      "=================================================================\n",
      "Total params: 1,662,209\n",
      "Trainable params: 1,662,209\n",
      "Non-trainable params: 0\n",
      "_________________________________________________________________\n"
     ]
    }
   ],
   "source": [
    "model.summary()"
   ]
  },
  {
   "cell_type": "code",
   "execution_count": 69,
   "id": "7eff2358",
   "metadata": {},
   "outputs": [],
   "source": [
    "my_img_arr = image.img_to_array(my_image)"
   ]
  },
  {
   "cell_type": "code",
   "execution_count": 70,
   "id": "02371f06",
   "metadata": {},
   "outputs": [
    {
     "data": {
      "image/png": "[encoded data removed]",
      "text/plain": [
       "<PIL.Image.Image image mode=RGB size=130x130 at 0x7FF9AD79A290>"
      ]
     },
     "execution_count": 70,
     "metadata": {},
     "output_type": "execute_result"
    }
   ],
   "source": [
    "my_image"
   ]
  },
  {
   "cell_type": "code",
   "execution_count": 71,
   "id": "aa8b5005",
   "metadata": {},
   "outputs": [
    {
     "data": {
      "text/plain": [
       "(130, 130, 3)"
      ]
     },
     "execution_count": 71,
     "metadata": {},
     "output_type": "execute_result"
    }
   ],
   "source": [
    "my_img_arr.shape # want shape as (1,130,130,3)"
   ]
  },
  {
   "cell_type": "code",
   "execution_count": 72,
   "id": "f94fd22f",
   "metadata": {},
   "outputs": [],
   "source": [
    "my_img_arr = np.expand_dims(my_img_arr,axis=0)"
   ]
  },
  {
   "cell_type": "code",
   "execution_count": 73,
   "id": "58f4b119",
   "metadata": {},
   "outputs": [
    {
     "data": {
      "text/plain": [
       "(1, 130, 130, 3)"
      ]
     },
     "execution_count": 73,
     "metadata": {},
     "output_type": "execute_result"
    }
   ],
   "source": [
    "my_img_arr.shape"
   ]
  },
  {
   "cell_type": "code",
   "execution_count": 74,
   "id": "55d5a29c",
   "metadata": {},
   "outputs": [
    {
     "data": {
      "text/plain": [
       "array([[1.]], dtype=float32)"
      ]
     },
     "execution_count": 74,
     "metadata": {},
     "output_type": "execute_result"
    }
   ],
   "source": [
    "model.predict(my_img_arr)"
   ]
  },
  {
   "cell_type": "code",
   "execution_count": 76,
   "id": "8da6243c",
   "metadata": {},
   "outputs": [
    {
     "data": {
      "text/plain": [
       "{'parasitized': 0, 'uninfected': 1}"
      ]
     },
     "execution_count": 76,
     "metadata": {},
     "output_type": "execute_result"
    }
   ],
   "source": [
    "train_image_gen.class_indices"
   ]
  }
 ],
 "metadata": {
  "kernelspec": {
   "display_name": "Python 3 (ipykernel)",
   "language": "python",
   "name": "python3"
  },
  "language_info": {
   "codemirror_mode": {
    "name": "ipython",
    "version": 3
   },
   "file_extension": ".py",
   "mimetype": "text/x-python",
   "name": "python",
   "nbconvert_exporter": "python",
   "pygments_lexer": "ipython3",
   "version": "3.7.16"
  }
 },
 "nbformat": 4,
 "nbformat_minor": 5
}
